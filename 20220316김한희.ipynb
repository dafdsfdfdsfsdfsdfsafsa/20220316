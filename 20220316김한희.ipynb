{
  "nbformat": 4,
  "nbformat_minor": 0,
  "metadata": {
    "colab": {
      "name": "20220316김한희.ipynb",
      "provenance": [],
      "collapsed_sections": [],
      "authorship_tag": "ABX9TyO5ak5Qdlb4uGrRCKBzTaV+",
      "include_colab_link": true
    },
    "kernelspec": {
      "name": "python3",
      "display_name": "Python 3"
    },
    "language_info": {
      "name": "python"
    }
  },
  "cells": [
    {
      "cell_type": "markdown",
      "metadata": {
        "id": "view-in-github",
        "colab_type": "text"
      },
      "source": [
        "<a href=\"https://colab.research.google.com/github/dafdsfdfdsfsdfsdfsafsa/20220316/blob/main/20220316%EA%B9%80%ED%95%9C%ED%9D%AC.ipynb\" target=\"_parent\"><img src=\"https://colab.research.google.com/assets/colab-badge.svg\" alt=\"Open In Colab\"/></a>"
      ]
    },
    {
      "cell_type": "markdown",
      "source": [
        ""
      ],
      "metadata": {
        "id": "3PEnTNo1aEqF"
      }
    },
    {
      "cell_type": "code",
      "source": [
        ""
      ],
      "metadata": {
        "id": "S7suwZX1cBmW"
      },
      "execution_count": null,
      "outputs": []
    },
    {
      "cell_type": "markdown",
      "source": [
        "<variables>\n",
        "변수\n",
        "- numbers\n",
        "- string\n",
        "- list"
      ],
      "metadata": {
        "id": "79gjq8HDcCRl"
      }
    },
    {
      "cell_type": "code",
      "source": [
        "a = 1; print(type(a))"
      ],
      "metadata": {
        "colab": {
          "base_uri": "https://localhost:8080/"
        },
        "id": "tuzWpBikh9Ju",
        "outputId": "3077200a-4023-490d-96d3-c08deea5a484"
      },
      "execution_count": null,
      "outputs": [
        {
          "output_type": "stream",
          "name": "stdout",
          "text": [
            "<class 'int'>\n"
          ]
        }
      ]
    },
    {
      "cell_type": "markdown",
      "source": [
        "print(a)\n",
        "--> 1이 변수가 가지고 있는 value"
      ],
      "metadata": {
        "id": "_isv1nS2iFxT"
      }
    },
    {
      "cell_type": "code",
      "source": [
        "a = '123'; print(type(a)); print(a[1])"
      ],
      "metadata": {
        "colab": {
          "base_uri": "https://localhost:8080/"
        },
        "id": "q4VPcuJRiOuj",
        "outputId": "1719cc51-21ab-4027-d9dc-a0388fe390d5"
      },
      "execution_count": null,
      "outputs": [
        {
          "output_type": "stream",
          "name": "stdout",
          "text": [
            "<class 'str'>\n",
            "2\n"
          ]
        }
      ]
    },
    {
      "cell_type": "markdown",
      "source": [
        "\"\"나 ''를 통해서 string됨"
      ],
      "metadata": {
        "id": "irojZAFPiUz4"
      }
    },
    {
      "cell_type": "code",
      "source": [
        "a = [1, 2, 3, 4]; print(type(a)); print(a[0])"
      ],
      "metadata": {
        "colab": {
          "base_uri": "https://localhost:8080/"
        },
        "id": "Pko2E4iRiZaE",
        "outputId": "be8539d9-145c-48dc-9cc1-3c52c20d71e1"
      },
      "execution_count": null,
      "outputs": [
        {
          "output_type": "stream",
          "name": "stdout",
          "text": [
            "<class 'list'>\n",
            "1\n"
          ]
        }
      ]
    },
    {
      "cell_type": "markdown",
      "source": [
        "a=[1,2,3,4]에서 순서는 0123번으로 매겨짐\n",
        "a[0]\n",
        "--> 1\n",
        "\n",
        "cf) 제일 마지막 줄은 print 안 해도 걍 나옴"
      ],
      "metadata": {
        "id": "CU0tMUzaidJP"
      }
    },
    {
      "cell_type": "markdown",
      "source": [
        "a[1:]\n",
        "--> 1부터 끝까지\n",
        "\n",
        "a[:5]\n",
        "--> 처음부터 끝까지\n",
        "\n",
        "a[:]\n",
        "--> 처음부터 끝까지\n",
        "\n",
        "a[1:-1]\n",
        "--> 1부터 뒤에서부터 하나 뺀 데까지"
      ],
      "metadata": {
        "id": "FJsT-NYaixs7"
      }
    },
    {
      "cell_type": "code",
      "source": [
        "a = [1,'a', [3, '4']]; print(type(a)); print(a[0]); print(a[1]); print(a[2]); print(a[2][1])"
      ],
      "metadata": {
        "colab": {
          "base_uri": "https://localhost:8080/"
        },
        "id": "PtHu8dUDjGjF",
        "outputId": "86f74852-3525-4b1f-a206-fb11593f4e32"
      },
      "execution_count": null,
      "outputs": [
        {
          "output_type": "stream",
          "name": "stdout",
          "text": [
            "<class 'list'>\n",
            "1\n",
            "a\n",
            "[3, '4']\n",
            "4\n"
          ]
        }
      ]
    },
    {
      "cell_type": "markdown",
      "source": [
        "a[2][1]\n",
        "--> 4\n",
        "list 중에서 1번이라는 뜻"
      ],
      "metadata": {
        "id": "D9KiYsIxjM4P"
      }
    },
    {
      "cell_type": "code",
      "source": [
        "a =\t{\"a\": \"apple\", \"b\": \"orange\", \"c\": 2014}\n",
        "print(type(a))\n",
        "print(a[\"a\"])"
      ],
      "metadata": {
        "colab": {
          "base_uri": "https://localhost:8080/"
        },
        "id": "wIe3SWt3iuYl",
        "outputId": "f7337dbe-dac8-4d4e-fa9f-7c4e99f43afd"
      },
      "execution_count": null,
      "outputs": [
        {
          "output_type": "stream",
          "name": "stdout",
          "text": [
            "<class 'dict'>\n",
            "apple\n"
          ]
        }
      ]
    },
    {
      "cell_type": "markdown",
      "source": [
        "딕셔너리\n",
        "\"a\" key에 숫자 올 수 있음 예) 123\n",
        "(근데 그냥 a는 문자가 아니라서 안 됨)\n",
        "큰/작은 따옴표 필요함\n",
        "\n",
        "a[0] 이런 순서는 안 됨 에러 뜸"
      ],
      "metadata": {
        "id": "Q5Jq6BLgjezk"
      }
    },
    {
      "cell_type": "code",
      "source": [
        ""
      ],
      "metadata": {
        "id": "NhND-xxxj5WX"
      },
      "execution_count": null,
      "outputs": []
    },
    {
      "cell_type": "markdown",
      "source": [
        "string"
      ],
      "metadata": {
        "id": "KiXAjhpfkIo_"
      }
    },
    {
      "cell_type": "code",
      "source": [
        "s = 'abcdef'\n",
        "print(s[0], s[5], s[-1], s[-6])\n",
        "print(s[1:3], s[1:], s[:3], s[:])"
      ],
      "metadata": {
        "colab": {
          "base_uri": "https://localhost:8080/"
        },
        "id": "c4bC_bJxkOGX",
        "outputId": "12e58e0b-6090-48b6-86f7-65e1cf27b650"
      },
      "execution_count": null,
      "outputs": [
        {
          "output_type": "stream",
          "name": "stdout",
          "text": [
            "a f f a\n",
            "bc bcdef abc abcdef\n"
          ]
        }
      ]
    },
    {
      "cell_type": "code",
      "source": [
        "s[1]+s[3]+s[4:]*10"
      ],
      "metadata": {
        "colab": {
          "base_uri": "https://localhost:8080/",
          "height": 36
        },
        "id": "qLQUov3LkVoX",
        "outputId": "8468d359-615b-4b7b-a0d5-cfb7da23b803"
      },
      "execution_count": null,
      "outputs": [
        {
          "output_type": "execute_result",
          "data": {
            "text/plain": [
              "'bdefefefefefefefefefef'"
            ],
            "application/vnd.google.colaboratory.intrinsic+json": {
              "type": "string"
            }
          },
          "metadata": {},
          "execution_count": 7
        }
      ]
    },
    {
      "cell_type": "markdown",
      "source": [
        "b + d + ef x 10\n",
        "이라는 뜻"
      ],
      "metadata": {
        "id": "JM19krxxkWyj"
      }
    },
    {
      "cell_type": "code",
      "source": [
        "s.upper()"
      ],
      "metadata": {
        "colab": {
          "base_uri": "https://localhost:8080/",
          "height": 36
        },
        "id": "H44K3UYmkfyJ",
        "outputId": "0353eabc-c859-46a0-b51b-51519d2a35ad"
      },
      "execution_count": null,
      "outputs": [
        {
          "output_type": "execute_result",
          "data": {
            "text/plain": [
              "'ABCDEF'"
            ],
            "application/vnd.google.colaboratory.intrinsic+json": {
              "type": "string"
            }
          },
          "metadata": {},
          "execution_count": 8
        }
      ]
    },
    {
      "cell_type": "markdown",
      "source": [
        "function임"
      ],
      "metadata": {
        "id": "i2f8ZiJekhoV"
      }
    },
    {
      "cell_type": "code",
      "source": [
        "s = ' this is a house built this year.\\n' \t\n",
        "s"
      ],
      "metadata": {
        "colab": {
          "base_uri": "https://localhost:8080/",
          "height": 36
        },
        "id": "W1yAFXAJkk1J",
        "outputId": "13ea8d45-d2f9-4a8c-d360-7700218582b1"
      },
      "execution_count": null,
      "outputs": [
        {
          "output_type": "execute_result",
          "data": {
            "text/plain": [
              "' this is a house built this year.\\n'"
            ],
            "application/vnd.google.colaboratory.intrinsic+json": {
              "type": "string"
            }
          },
          "metadata": {},
          "execution_count": 9
        }
      ]
    },
    {
      "cell_type": "markdown",
      "source": [
        "s 쓰는 이유: print(s)의 효과\n",
        "(단, 맨 마지막 줄에 있는 경우)"
      ],
      "metadata": {
        "id": "FXQl-fLmkn16"
      }
    },
    {
      "cell_type": "code",
      "source": [
        "result = s.find('house') \t    # index of first instance of string t inside s (-1 if not found)\n",
        "result"
      ],
      "metadata": {
        "colab": {
          "base_uri": "https://localhost:8080/"
        },
        "id": "RI3rP5vGkvBo",
        "outputId": "13f888b6-00c6-47d5-f064-938cac061efa"
      },
      "execution_count": null,
      "outputs": [
        {
          "output_type": "execute_result",
          "data": {
            "text/plain": [
              "11"
            ]
          },
          "metadata": {},
          "execution_count": 10
        }
      ]
    },
    {
      "cell_type": "markdown",
      "source": [
        "house가 나오는 딱 첫번째가 11번이라는 뜻"
      ],
      "metadata": {
        "id": "BDjvrZj6kyaK"
      }
    },
    {
      "cell_type": "code",
      "source": [
        "tokens = s.split(' ')\t        # split s into a list wherever a t is found (whitespace by default)\n",
        "tokens"
      ],
      "metadata": {
        "colab": {
          "base_uri": "https://localhost:8080/"
        },
        "id": "20JJAkrPk312",
        "outputId": "dc3800ed-e701-4a0a-e792-3ed7a7412e34"
      },
      "execution_count": null,
      "outputs": [
        {
          "output_type": "execute_result",
          "data": {
            "text/plain": [
              "['', 'this', 'is', 'a', 'house', 'built', 'this', 'year.\\n']"
            ]
          },
          "metadata": {},
          "execution_count": 11
        }
      ]
    },
    {
      "cell_type": "markdown",
      "source": [
        "split: 빈칸이 있으면 빈칸을 중심으로 쪼개서 리스트로 만듦"
      ],
      "metadata": {
        "id": "ikyM3EaGk-2L"
      }
    },
    {
      "cell_type": "code",
      "source": [
        "s = ' '.join(tokens)\t        # combine the words of the text into a string using s as the glue\n",
        "s"
      ],
      "metadata": {
        "colab": {
          "base_uri": "https://localhost:8080/",
          "height": 36
        },
        "id": "bD1hQT7mlFUk",
        "outputId": "2852a7ac-7bc0-44ea-e34c-98cebf9c3ad9"
      },
      "execution_count": null,
      "outputs": [
        {
          "output_type": "execute_result",
          "data": {
            "text/plain": [
              "' this is a house built this year.\\n'"
            ],
            "application/vnd.google.colaboratory.intrinsic+json": {
              "type": "string"
            }
          },
          "metadata": {},
          "execution_count": 12
        }
      ]
    },
    {
      "cell_type": "markdown",
      "source": [
        "빈칸을 이용해서 join하라는 뜻"
      ],
      "metadata": {
        "id": "SVXW2ykTlGQx"
      }
    },
    {
      "cell_type": "markdown",
      "source": [
        "함수 function\n",
        "\n",
        "- 기존에 있는 거\n",
        "- 직점 만든 거\n",
        "\n",
        "def 함수명(입력변수): \n",
        "  return 변수식"
      ],
      "metadata": {
        "id": "Vd7cnEjilK68"
      }
    },
    {
      "cell_type": "code",
      "source": [
        "def add(a,b):\n",
        "  return a+b"
      ],
      "metadata": {
        "id": "mk7tgnc_lNdA"
      },
      "execution_count": 2,
      "outputs": []
    },
    {
      "cell_type": "markdown",
      "source": [
        "or\n",
        "def add(a,b):\n",
        "  c=a+b\n",
        "    return c\n",
        "\n",
        "중요) 위에 꺼 먼저 실행하고 (정의가 된 상태에서) 밑에 돌려야 에러 안 뜸\n",
        "name 'add' not defined 이런 식으로 뜸"
      ],
      "metadata": {
        "id": "b3D0Q7WGUD8t"
      }
    },
    {
      "cell_type": "markdown",
      "source": [
        "Syntax 문법\n",
        "1. 반복문 for (while)\n",
        "2. 조건문 if (switch)\n"
      ],
      "metadata": {
        "id": "j2aT2lhnUVlu"
      }
    },
    {
      "cell_type": "code",
      "source": [
        "a = [1, 2, 3, 4]\n",
        "for i in a:\n",
        "    print(i)"
      ],
      "metadata": {
        "colab": {
          "base_uri": "https://localhost:8080/"
        },
        "id": "xsNaUb8kUobF",
        "outputId": "50e886eb-636b-4a32-b4db-3b9ac8bed59e"
      },
      "execution_count": 3,
      "outputs": [
        {
          "output_type": "stream",
          "name": "stdout",
          "text": [
            "1\n",
            "2\n",
            "3\n",
            "4\n"
          ]
        }
      ]
    },
    {
      "cell_type": "markdown",
      "source": [
        "a에 있는 걸 처음부터 하나하나씩 받아서 i에 넣고 돌린다."
      ],
      "metadata": {
        "id": "NLpLTj1AUpyZ"
      }
    },
    {
      "cell_type": "markdown",
      "source": [
        "그리고 print 전에 들여쓰기를 해야 위에 소속된 것으로 침"
      ],
      "metadata": {
        "id": "jq7i_Kz3UuYQ"
      }
    },
    {
      "cell_type": "code",
      "source": [
        "a = [1, 2, 3, 4]\n",
        "for i in range(len(a)):\n",
        "    print(a[i])"
      ],
      "metadata": {
        "colab": {
          "base_uri": "https://localhost:8080/"
        },
        "id": "c38nOTfkU0Eb",
        "outputId": "85df3678-c29e-40a9-a27c-64f1a8835d85"
      },
      "execution_count": 4,
      "outputs": [
        {
          "output_type": "stream",
          "name": "stdout",
          "text": [
            "1\n",
            "2\n",
            "3\n",
            "4\n"
          ]
        }
      ]
    },
    {
      "cell_type": "markdown",
      "source": [
        "range(len(a)) --> range(4) --> [0,1,2,3]\n",
        "이제 각각 i에 넣고 돌림\n",
        "\n",
        "그냥 애초에 4로 해도 되지만 더 스마트한 방법"
      ],
      "metadata": {
        "id": "bvPA9nI7U4iq"
      }
    },
    {
      "cell_type": "code",
      "source": [
        "a = 0\n",
        "if a == 0:\n",
        "    print(a)\n",
        "else:\n",
        "    print(a+1)"
      ],
      "metadata": {
        "colab": {
          "base_uri": "https://localhost:8080/"
        },
        "id": "3UPozLIRU4Mh",
        "outputId": "9af3c550-ca4f-4634-fe8c-47c126db43f2"
      },
      "execution_count": 5,
      "outputs": [
        {
          "output_type": "stream",
          "name": "stdout",
          "text": [
            "0\n"
          ]
        }
      ]
    },
    {
      "cell_type": "markdown",
      "source": [
        "1. = 는 그냥 assign\n",
        "2. == 같다는 뜻\n",
        "3. != 다르다는 뜻"
      ],
      "metadata": {
        "id": "dUqXSge2VOr-"
      }
    },
    {
      "cell_type": "code",
      "source": [
        "for i in range(1, 3):\n",
        "    for j in range(3, 5):\n",
        "        print(i*j)"
      ],
      "metadata": {
        "colab": {
          "base_uri": "https://localhost:8080/"
        },
        "id": "PmUZwLMbVZ1p",
        "outputId": "88f398d8-506b-478e-e4f8-e11688f8c253"
      },
      "execution_count": 7,
      "outputs": [
        {
          "output_type": "stream",
          "name": "stdout",
          "text": [
            "3\n",
            "4\n",
            "6\n",
            "8\n"
          ]
        }
      ]
    },
    {
      "cell_type": "markdown",
      "source": [
        "range(1,3) --> [1,2] 인덱스 이렇게 만듦\n",
        "\n",
        "cf) range(3,5) = [3,4]\n",
        "\n",
        "이걸 이제 j에 넣고\n",
        "\n",
        "위에 for문 1 먼저\n",
        "- i*j 1x3, 1x4\n",
        "--> 3,4\n",
        "\n",
        "그 다음 for문 2\n",
        "- ixj 2x3, 2x4\n",
        "--> 6,8\n"
      ],
      "metadata": {
        "id": "Qr9kLWWKVcdv"
      }
    },
    {
      "cell_type": "markdown",
      "source": [
        ""
      ],
      "metadata": {
        "id": "Y_ozSx49Vcag"
      }
    },
    {
      "cell_type": "code",
      "source": [
        "for i in range(1, 3):\n",
        "    for j in range(3, 5):\n",
        "        if j >=4:\n",
        "            print(i*j)"
      ],
      "metadata": {
        "colab": {
          "base_uri": "https://localhost:8080/"
        },
        "id": "YOMfGyqTV9pU",
        "outputId": "d2b3e213-af88-4fb8-f938-c63f49a46998"
      },
      "execution_count": 8,
      "outputs": [
        {
          "output_type": "stream",
          "name": "stdout",
          "text": [
            "4\n",
            "8\n"
          ]
        }
      ]
    },
    {
      "cell_type": "markdown",
      "source": [
        "for i 1 먼저 1x4\n",
        "\n",
        "for i 2일 때 2x4"
      ],
      "metadata": {
        "id": "X6ePJqiEWHIl"
      }
    },
    {
      "cell_type": "code",
      "source": [
        "a = ['red', 'green', 'blue', 'purple']\n",
        "b = [i for i in a if len(i) >=4]\n",
        "b"
      ],
      "metadata": {
        "colab": {
          "base_uri": "https://localhost:8080/"
        },
        "id": "6eUyj8DAWRC0",
        "outputId": "af53691a-4257-40c2-9182-0fcd43b7e69c"
      },
      "execution_count": 10,
      "outputs": [
        {
          "output_type": "execute_result",
          "data": {
            "text/plain": [
              "['green', 'blue', 'purple']"
            ]
          },
          "metadata": {},
          "execution_count": 10
        }
      ]
    },
    {
      "cell_type": "markdown",
      "source": [
        "list comprehension 문제\n",
        "for를 만족시키는 list를 만들어라\n"
      ],
      "metadata": {
        "id": "KL9_5Q5DWWxh"
      }
    },
    {
      "cell_type": "code",
      "source": [
        "a = ['red', 'green', 'blue', 'purple']\n",
        "b = [1, 2, 3, 4]\n",
        "c = {a[i]:b[i] for i in range(4)}\n",
        "c"
      ],
      "metadata": {
        "colab": {
          "base_uri": "https://localhost:8080/"
        },
        "id": "lt_xz5P0X66B",
        "outputId": "8abb92e2-03ab-47df-dbed-bb3f7eb57a4e"
      },
      "execution_count": 11,
      "outputs": [
        {
          "output_type": "execute_result",
          "data": {
            "text/plain": [
              "{'blue': 3, 'green': 2, 'purple': 4, 'red': 1}"
            ]
          },
          "metadata": {},
          "execution_count": 11
        }
      ]
    },
    {
      "cell_type": "markdown",
      "source": [
        "dict comprehension 문제\n",
        "--> 결과 순서는 중요하지 않음"
      ],
      "metadata": {
        "id": "MP41gO1zX_pG"
      }
    },
    {
      "cell_type": "markdown",
      "source": [
        "package\n",
        "\n",
        "1. install - 별로 유명하지 않아서 install부터 새로 해야 하는 함수\n",
        "2. import - install은 되어있지만 import 해야 함\n",
        "3. built-in - 원래부터 바로 쓸 수 있도록 되어 있음 ex) print 함수\n"
      ],
      "metadata": {
        "id": "at0CDs_WYJAn"
      }
    },
    {
      "cell_type": "code",
      "source": [
        "import numpy "
      ],
      "metadata": {
        "id": "g1qeaQDIYyOp"
      },
      "execution_count": 12,
      "outputs": []
    },
    {
      "cell_type": "markdown",
      "source": [
        "를 먼저 해야 함\n",
        "cf) runtime 에서 restart runtime하면 runtime 초기화 가능"
      ],
      "metadata": {
        "id": "_NR3k4oIY7cI"
      }
    },
    {
      "cell_type": "code",
      "source": [
        "numpy.random.randn(5)"
      ],
      "metadata": {
        "colab": {
          "base_uri": "https://localhost:8080/"
        },
        "id": "W5EB2LnnZDjU",
        "outputId": "086d2146-1989-4715-b66f-29bf29e30cb8"
      },
      "execution_count": 13,
      "outputs": [
        {
          "output_type": "execute_result",
          "data": {
            "text/plain": [
              "array([ 0.38703055,  0.55944623,  0.59592767, -0.15203517, -0.54974851])"
            ]
          },
          "metadata": {},
          "execution_count": 13
        }
      ]
    },
    {
      "cell_type": "markdown",
      "source": [
        "--> 5개의 random num\n",
        "정규분포에 있는 숫자로 나옴\n",
        "\n",
        "np.디렉토리.함수\n",
        "--> 이 순서대로 쓰면 됨"
      ],
      "metadata": {
        "id": "zehzJ-jIZLH6"
      }
    },
    {
      "cell_type": "code",
      "source": [
        "import matplotlib.pyplot"
      ],
      "metadata": {
        "id": "Wjv9uVPJZm0v"
      },
      "execution_count": 19,
      "outputs": []
    },
    {
      "cell_type": "markdown",
      "source": [
        "이런 식에서 n변수에 100개의 랜덤 숫자 나옴\n",
        "\n",
        "그래서 앞에 식 다시 돌릴 때마다 그림 결과가 조금씩 달라짐."
      ],
      "metadata": {
        "id": "6aQrpHNtZtcX"
      }
    },
    {
      "cell_type": "code",
      "source": [
        "matplotlib.pyplot.hist(n)"
      ],
      "metadata": {
        "colab": {
          "base_uri": "https://localhost:8080/",
          "height": 340
        },
        "id": "2kSlX92XZsux",
        "outputId": "5ac0a2b1-5974-4cb4-916f-16e982e60170"
      },
      "execution_count": 21,
      "outputs": [
        {
          "output_type": "execute_result",
          "data": {
            "text/plain": [
              "(array([0., 0., 0., 0., 0., 1., 0., 0., 0., 0.]),\n",
              " array([ 99.5,  99.6,  99.7,  99.8,  99.9, 100. , 100.1, 100.2, 100.3,\n",
              "        100.4, 100.5]),\n",
              " <a list of 10 Patch objects>)"
            ]
          },
          "metadata": {},
          "execution_count": 21
        },
        {
          "output_type": "display_data",
          "data": {
            "text/plain": [
              "<Figure size 432x288 with 1 Axes>"
            ],
            "image/png": "[encoded data removed]"
          },
          "metadata": {
            "needs_background": "light"
          }
        }
      ]
    },
    {
      "cell_type": "markdown",
      "source": [
        "numpy - matplotlib\n",
        "\n",
        "- matrix: 행렬, 직사각형 숫자 배열\n",
        "- ndarray: n - dimension array"
      ],
      "metadata": {
        "id": "VD1C2-3daKqA"
      }
    },
    {
      "cell_type": "code",
      "source": [
        "import numpy as np"
      ],
      "metadata": {
        "id": "v-0wxwe3aJRD"
      },
      "execution_count": 22,
      "outputs": []
    },
    {
      "cell_type": "code",
      "source": [
        "x = np.array([1,2,3])\n",
        "print(x)\n",
        "print(type(x))\n",
        "print(x.shape)"
      ],
      "metadata": {
        "colab": {
          "base_uri": "https://localhost:8080/"
        },
        "id": "o6mpyQ20aeUD",
        "outputId": "5c77773d-2662-469a-cb14-c260008c6431"
      },
      "execution_count": 23,
      "outputs": [
        {
          "output_type": "stream",
          "name": "stdout",
          "text": [
            "[1 2 3]\n",
            "<class 'numpy.ndarray'>\n",
            "(3,)\n"
          ]
        }
      ]
    },
    {
      "cell_type": "markdown",
      "source": [
        "리스트를 어레이로 바꿔줘야 됨\n",
        "[1,2,3]--> array로 바꾼거임\n",
        "<class 라고 나온 게 type임\n",
        "(3,) --> 1d는 이렇게 나옴"
      ],
      "metadata": {
        "id": "NDvsTELlagDR"
      }
    },
    {
      "cell_type": "code",
      "source": [
        "x = np.arange(0,10,2)\n",
        "print(x)\n",
        "print(type(x))\n",
        "print(x.shape)"
      ],
      "metadata": {
        "colab": {
          "base_uri": "https://localhost:8080/"
        },
        "id": "adebzWsmayCE",
        "outputId": "6010dbb8-67ca-4aae-c445-de2466abd850"
      },
      "execution_count": 24,
      "outputs": [
        {
          "output_type": "stream",
          "name": "stdout",
          "text": [
            "[0 2 4 6 8]\n",
            "<class 'numpy.ndarray'>\n",
            "(5,)\n"
          ]
        }
      ]
    },
    {
      "cell_type": "markdown",
      "source": [
        "increment 증가\n",
        "0부터 10까지 2씩 증가하는 걸 만들어라\n",
        "(10은 포함x)\n"
      ],
      "metadata": {
        "id": "QThVjaYwa0m_"
      }
    },
    {
      "cell_type": "code",
      "source": [
        "x = np.linspace(0,10,6)\n",
        "print(x)\n",
        "print(type(x))\n",
        "print(x.shape)"
      ],
      "metadata": {
        "colab": {
          "base_uri": "https://localhost:8080/"
        },
        "id": "gyxtUhZpa7ht",
        "outputId": "55e5b5a0-a1a4-4312-e926-baa8d1d89f7f"
      },
      "execution_count": 25,
      "outputs": [
        {
          "output_type": "stream",
          "name": "stdout",
          "text": [
            "[ 0.  2.  4.  6.  8. 10.]\n",
            "<class 'numpy.ndarray'>\n",
            "(6,)\n"
          ]
        }
      ]
    },
    {
      "cell_type": "markdown",
      "source": [
        "linear space\n",
        "0부터 10까지 등분을 해서 6개 숫자 만들기"
      ],
      "metadata": {
        "id": "RpRjWBCTa-hr"
      }
    },
    {
      "cell_type": "code",
      "source": [
        "x = np.array([[1,2,3], [4,5,6]])\n",
        "print(x)\n",
        "print(type(x))\n",
        "print(x.shape)"
      ],
      "metadata": {
        "colab": {
          "base_uri": "https://localhost:8080/"
        },
        "id": "2AQh5QdkbGXi",
        "outputId": "1f4e1465-0458-49bc-cb3c-7f4ea0b1ace4"
      },
      "execution_count": 26,
      "outputs": [
        {
          "output_type": "stream",
          "name": "stdout",
          "text": [
            "[[1 2 3]\n",
            " [4 5 6]]\n",
            "<class 'numpy.ndarray'>\n",
            "(2, 3)\n"
          ]
        }
      ]
    },
    {
      "cell_type": "markdown",
      "source": [
        "row 2개\n",
        "column 3개"
      ],
      "metadata": {
        "id": "j7FKonyLbL7Q"
      }
    },
    {
      "cell_type": "code",
      "source": [
        "x = np.array([[[1,2,3], [4,5,6]], [[7,8,9], [10,11,12]]])\n",
        "print(x)\n",
        "print(type(x))\n",
        "print(x.shape)"
      ],
      "metadata": {
        "colab": {
          "base_uri": "https://localhost:8080/"
        },
        "id": "MpdQpg1WbQ8r",
        "outputId": "55d6cafc-bbf6-4d4d-e7b6-0016269f731f"
      },
      "execution_count": 27,
      "outputs": [
        {
          "output_type": "stream",
          "name": "stdout",
          "text": [
            "[[[ 1  2  3]\n",
            "  [ 4  5  6]]\n",
            "\n",
            " [[ 7  8  9]\n",
            "  [10 11 12]]]\n",
            "<class 'numpy.ndarray'>\n",
            "(2, 2, 3)\n"
          ]
        }
      ]
    },
    {
      "cell_type": "code",
      "source": [
        "x = np.ones([2, 2, 3])\n",
        "print(x)\n",
        "print(type(x))\n",
        "print(x.shape)\n"
      ],
      "metadata": {
        "colab": {
          "base_uri": "https://localhost:8080/"
        },
        "id": "YtsM8P15bTEc",
        "outputId": "52ccdd23-07df-4aa3-e113-c0039d11c6e4"
      },
      "execution_count": 28,
      "outputs": [
        {
          "output_type": "stream",
          "name": "stdout",
          "text": [
            "[[[1. 1. 1.]\n",
            "  [1. 1. 1.]]\n",
            "\n",
            " [[1. 1. 1.]\n",
            "  [1. 1. 1.]]]\n",
            "<class 'numpy.ndarray'>\n",
            "(2, 2, 3)\n"
          ]
        }
      ]
    },
    {
      "cell_type": "code",
      "source": [
        "x = np.zeros([2, 2, 3])\n",
        "print(x)\n",
        "print(type(x))\n",
        "print(x.shape)\n",
        "x.reshape(3,2,2)"
      ],
      "metadata": {
        "colab": {
          "base_uri": "https://localhost:8080/"
        },
        "id": "-GkZdPn2bXoU",
        "outputId": "d3acb727-c6e2-4aa0-9701-dd3e8f26d74c"
      },
      "execution_count": 29,
      "outputs": [
        {
          "output_type": "stream",
          "name": "stdout",
          "text": [
            "[[[0. 0. 0.]\n",
            "  [0. 0. 0.]]\n",
            "\n",
            " [[0. 0. 0.]\n",
            "  [0. 0. 0.]]]\n",
            "<class 'numpy.ndarray'>\n",
            "(2, 2, 3)\n"
          ]
        },
        {
          "output_type": "execute_result",
          "data": {
            "text/plain": [
              "array([[[0., 0.],\n",
              "        [0., 0.]],\n",
              "\n",
              "       [[0., 0.],\n",
              "        [0., 0.]],\n",
              "\n",
              "       [[0., 0.],\n",
              "        [0., 0.]]])"
            ]
          },
          "metadata": {},
          "execution_count": 29
        }
      ]
    },
    {
      "cell_type": "code",
      "source": [
        "np.random.normal(0, 1, [2,3,4])"
      ],
      "metadata": {
        "colab": {
          "base_uri": "https://localhost:8080/"
        },
        "id": "cUXBPFTObcDL",
        "outputId": "10e6bf41-11c2-442d-d419-679ce682e044"
      },
      "execution_count": 30,
      "outputs": [
        {
          "output_type": "execute_result",
          "data": {
            "text/plain": [
              "array([[[-1.4089246 ,  0.03955744, -0.86914196, -0.50215948],\n",
              "        [ 1.06646793, -1.23105957,  0.02803886,  1.77966313],\n",
              "        [ 0.07987159, -1.07322043,  1.13724865, -1.72055659]],\n",
              "\n",
              "       [[-0.91347648,  0.35447132,  0.69765256,  0.25007629],\n",
              "        [-0.96952956,  0.69102219,  0.86728599,  0.60190908],\n",
              "        [ 0.14665629,  0.31459847,  2.00039063, -1.45993698]]])"
            ]
          },
          "metadata": {},
          "execution_count": 30
        }
      ]
    },
    {
      "cell_type": "markdown",
      "source": [
        "[2,3,4]로 생긴 random array를 만들어라"
      ],
      "metadata": {
        "id": "K6-HVfNVbd-t"
      }
    },
    {
      "cell_type": "code",
      "source": [
        "import matplotlib.pyplot as plt"
      ],
      "metadata": {
        "id": "-l-jgyogbjqo"
      },
      "execution_count": 31,
      "outputs": []
    },
    {
      "cell_type": "code",
      "source": [
        "x = np.random.normal(0, 1, 100)\n",
        "print(x)\n",
        "plt.hist(x, bins=10)"
      ],
      "metadata": {
        "colab": {
          "base_uri": "https://localhost:8080/",
          "height": 676
        },
        "id": "PlKhZnJFbmhE",
        "outputId": "56cf8580-32f2-4f68-ac22-2069b77a8338"
      },
      "execution_count": 32,
      "outputs": [
        {
          "output_type": "stream",
          "name": "stdout",
          "text": [
            "[ 0.45332812 -0.06683025  2.42312743 -0.94653732  1.08356476  1.91670324\n",
            "  0.82270754  1.07525798 -0.08188067  0.55643697  0.87075877  0.71653825\n",
            " -0.46377417 -0.14468472 -1.769821   -0.14612348 -0.80114888  1.3479103\n",
            " -0.35787926 -0.94444726 -1.8479357   1.18804962  1.19030128  0.51294351\n",
            "  0.35185444 -1.65261074  1.20344925 -0.17270329 -0.12495117 -0.77356036\n",
            " -1.18859542 -0.43459002  0.71642536 -0.65879007  0.27670884  0.59591389\n",
            " -0.32318441 -0.05888731  1.68475834  0.65392686  0.37489382  0.16003722\n",
            " -0.89469301 -0.93001167  0.12526654 -0.29652169  0.692437   -1.44517117\n",
            " -0.10608031 -0.44302437  0.45728753  1.75626809 -0.79317051 -1.4095112\n",
            "  0.24608943  0.24906103 -0.08422569 -1.59004128 -1.34353547 -0.56410362\n",
            " -1.59503505 -0.16343928  1.4559747  -0.95103222  0.81221743 -0.02213628\n",
            "  0.09364622 -0.71608529 -0.09415863  0.34224433 -1.19559771  0.28936257\n",
            " -1.42632372 -1.18265074 -1.39601612 -0.58378774 -0.40435278  0.57109315\n",
            "  2.2756517   0.78791468 -1.28567509 -1.07322426 -0.11595112 -0.37748268\n",
            "  0.62523352  0.50715443 -0.45380446  1.16634437  1.49650769 -0.61186103\n",
            " -0.0854177  -0.13552999  0.36332133  1.21883945  2.15947292 -0.43976481\n",
            " -2.95302322  0.03989022 -0.00878649  0.63580099]\n"
          ]
        },
        {
          "output_type": "execute_result",
          "data": {
            "text/plain": [
              "(array([ 1.,  0., 10., 10., 18., 22., 20., 10.,  5.,  4.]),\n",
              " array([-2.95302322, -2.41540816, -1.87779309, -1.34017803, -0.80256296,\n",
              "        -0.2649479 ,  0.27266717,  0.81028224,  1.3478973 ,  1.88551237,\n",
              "         2.42312743]),\n",
              " <a list of 10 Patch objects>)"
            ]
          },
          "metadata": {},
          "execution_count": 32
        },
        {
          "output_type": "display_data",
          "data": {
            "text/plain": [
              "<Figure size 432x288 with 1 Axes>"
            ],
            "image/png": "[encoded data removed]"
          },
          "metadata": {
            "needs_background": "light"
          }
        }
      ]
    },
    {
      "cell_type": "markdown",
      "source": [
        "(0,1,100)100개짜리 1d array\n",
        "plt 위에 식"
      ],
      "metadata": {
        "id": "mJqvx-debpXR"
      }
    },
    {
      "cell_type": "code",
      "source": [
        "plt.figure()\n",
        "\n",
        "theta1 = np.linspace(0, 2*np.pi, 100)\n",
        "s1 = np.sin(theta1)\n",
        "theta2 = np.linspace(0, 2*np.pi, 100) + np.pi/2\n",
        "s2 = np.sin(theta2)\n",
        "\n",
        "plt.subplot(2, 1, 1) # (rows, columns, panel number)\n",
        "plt.plot(theta1, s1, '.')\n",
        "plt.subplot(2, 1, 2) # (rows, columns, panel number)\n",
        "plt.plot(theta2, s2, '.')"
      ],
      "metadata": {
        "colab": {
          "base_uri": "https://localhost:8080/",
          "height": 284
        },
        "id": "f-s8Z859bzje",
        "outputId": "0237eaf4-0576-49ff-9dd4-91547cc1c11c"
      },
      "execution_count": 33,
      "outputs": [
        {
          "output_type": "execute_result",
          "data": {
            "text/plain": [
              "[<matplotlib.lines.Line2D at 0x7f952dc57450>]"
            ]
          },
          "metadata": {},
          "execution_count": 33
        },
        {
          "output_type": "display_data",
          "data": {
            "text/plain": [
              "<Figure size 432x288 with 2 Axes>"
            ],
            "image/png": "[encoded data removed]"
          },
          "metadata": {
            "needs_background": "light"
          }
        }
      ]
    },
    {
      "cell_type": "markdown",
      "source": [
        "시험\n",
        " 연습해보기\n"
      ],
      "metadata": {
        "id": "smF1kO5pb1Tk"
      }
    }
  ]
}