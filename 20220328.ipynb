{
  "nbformat": 4,
  "nbformat_minor": 0,
  "metadata": {
    "colab": {
      "name": "20220328.ipynb",
      "provenance": [],
      "authorship_tag": "ABX9TyP54IwkG6obRFJ6OXcxHyQr",
      "include_colab_link": true
    },
    "kernelspec": {
      "name": "python3",
      "display_name": "Python 3"
    },
    "language_info": {
      "name": "python"
    }
  },
  "cells": [
    {
      "cell_type": "markdown",
      "metadata": {
        "id": "view-in-github",
        "colab_type": "text"
      },
      "source": [
        "<a href=\"https://colab.research.google.com/github/dafdsfdfdsfsdfsdfsafsa/20220316/blob/main/20220328.ipynb\" target=\"_parent\"><img src=\"https://colab.research.google.com/assets/colab-badge.svg\" alt=\"Open In Colab\"/></a>"
      ]
    },
    {
      "cell_type": "code",
      "execution_count": 2,
      "metadata": {
        "id": "iMOOoE9UxwJM"
      },
      "outputs": [],
      "source": [
        "import requests"
      ]
    },
    {
      "cell_type": "code",
      "source": [
        "requests.get('http://apis.data.go.kr/1400377/mtweather/mountListSearch?serviceKey=wAo5GB%2Bf3A73XhCVlpE19NVxK7xCQWsVYduBVCjtEPc02wnG1ezp2iPOEeb2S7mt%2BvDN7KR69Z18kuxz06qugg%3D%3D&numOfRows=10&pageNo=1&localArea=1&obsid=1910&tm=202106301809&_type=json')"
      ],
      "metadata": {
        "colab": {
          "base_uri": "https://localhost:8080/"
        },
        "id": "J8OT6KKq1vBP",
        "outputId": "60a12038-f7ae-4964-ac57-6538a945c783"
      },
      "execution_count": 36,
      "outputs": [
        {
          "output_type": "execute_result",
          "data": {
            "text/plain": [
              "<Response [200]>"
            ]
          },
          "metadata": {},
          "execution_count": 36
        }
      ]
    },
    {
      "cell_type": "code",
      "source": [
        "response = requests.get('http://apis.data.go.kr/1400377/mtweather/mountListSearch?serviceKey=wAo5GB%2Bf3A73XhCVlpE19NVxK7xCQWsVYduBVCjtEPc02wnG1ezp2iPOEeb2S7mt%2BvDN7KR69Z18kuxz06qugg%3D%3D&numOfRows=10&pageNo=1&localArea=1&obsid=1910&tm=202106301809&_type=json')"
      ],
      "metadata": {
        "id": "d0Ku_Dgk43xu"
      },
      "execution_count": 37,
      "outputs": []
    },
    {
      "cell_type": "markdown",
      "source": [
        "http://jsonviewer.stack.hu/ "
      ],
      "metadata": {
        "id": "fKv-MHqb9bn1"
      }
    },
    {
      "cell_type": "code",
      "source": [
        "r = response.json()\n",
        "r"
      ],
      "metadata": {
        "colab": {
          "base_uri": "https://localhost:8080/"
        },
        "id": "4vqVh3ti3y-x",
        "outputId": "4e635ff5-1883-40a8-fe85-076216d1b2ab"
      },
      "execution_count": 42,
      "outputs": [
        {
          "output_type": "execute_result",
          "data": {
            "text/plain": [
              "{'response': {'body': {'items': {'item': {'cprn': 10.4,\n",
              "     'hm10m': 67.5,\n",
              "     'hm2m': 71.5,\n",
              "     'localarea': 1,\n",
              "     'obsid': 1910,\n",
              "     'obsname': '홍릉수목원임외',\n",
              "     'pa': 1000.7,\n",
              "     'rn': 10.5,\n",
              "     'tm': '2021-06-30 18:09',\n",
              "     'tm10m': 26.7,\n",
              "     'tm2m': 25.3,\n",
              "     'ts': 26.8,\n",
              "     'wd10m': 358.5,\n",
              "     'wd10mstr': 'N',\n",
              "     'wd2m': 57.1,\n",
              "     'wd2mstr': 'ENE',\n",
              "     'ws10m': 0.7,\n",
              "     'ws2m': 0}},\n",
              "   'numOfRows': 10,\n",
              "   'pageNo': 1,\n",
              "   'totalCount': 1},\n",
              "  'header': {'resultCode': '00', 'resultMsg': 'NORMAL SERVICE.'}}}"
            ]
          },
          "metadata": {},
          "execution_count": 42
        }
      ]
    },
    {
      "cell_type": "code",
      "source": [
        "items = r['response']['body']['items']"
      ],
      "metadata": {
        "id": "OUpsISNj-f67"
      },
      "execution_count": 43,
      "outputs": []
    },
    {
      "cell_type": "code",
      "source": [
        "print(type(r))"
      ],
      "metadata": {
        "colab": {
          "base_uri": "https://localhost:8080/"
        },
        "id": "QNP0lA4U9m_m",
        "outputId": "569d3501-2e82-44ab-dd22-7e0201754afa"
      },
      "execution_count": 39,
      "outputs": [
        {
          "output_type": "stream",
          "name": "stdout",
          "text": [
            "<class 'dict'>\n"
          ]
        }
      ]
    }
  ]
}